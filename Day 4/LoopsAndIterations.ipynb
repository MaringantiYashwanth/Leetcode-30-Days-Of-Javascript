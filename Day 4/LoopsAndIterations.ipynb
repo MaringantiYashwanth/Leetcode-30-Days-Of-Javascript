{
 "cells": [
  {
   "cell_type": "code",
   "execution_count": 1,
   "id": "d9f29e22-33fa-4124-8c9c-7a20d48d121f",
   "metadata": {},
   "outputs": [
    {
     "data": {
      "text/plain": [
       "5"
      ]
     },
     "execution_count": 1,
     "metadata": {},
     "output_type": "execute_result"
    }
   ],
   "source": [
    "my_list = [1, 2, 3, 4, 5]\n",
    "my_list[0]\n",
    "my_list[1]\n",
    "my_list[2]\n",
    "my_list[3]\n",
    "my_list[4]"
   ]
  },
  {
   "cell_type": "code",
   "execution_count": 2,
   "id": "d9149b1b-72e0-458f-86b6-f48b8901fcd8",
   "metadata": {},
   "outputs": [
    {
     "name": "stdout",
     "output_type": "stream",
     "text": [
      "1\n",
      "2\n",
      "3\n",
      "4\n",
      "5\n"
     ]
    }
   ],
   "source": [
    "for my_var in my_list:\n",
    "    print(my_var)\n"
   ]
  },
  {
   "cell_type": "code",
   "execution_count": 3,
   "id": "5c456a46-fd9c-456c-9f13-7f268e6d2c18",
   "metadata": {},
   "outputs": [
    {
     "name": "stdout",
     "output_type": "stream",
     "text": [
      "a\n",
      "b\n",
      "c\n"
     ]
    }
   ],
   "source": [
    "for i in \"abc\":\n",
    "    print(i)"
   ]
  },
  {
   "cell_type": "code",
   "execution_count": 4,
   "id": "71c9872d-a172-4f01-8850-6a1d0db8e26d",
   "metadata": {},
   "outputs": [
    {
     "data": {
      "text/plain": [
       "'b'"
      ]
     },
     "execution_count": 4,
     "metadata": {},
     "output_type": "execute_result"
    }
   ],
   "source": [
    "\"abc\"[1]"
   ]
  },
  {
   "cell_type": "code",
   "execution_count": 7,
   "id": "bd0f1367-da0d-4fb2-91ec-717231f3bb30",
   "metadata": {},
   "outputs": [],
   "source": [
    "# for x in 10:\n",
    "#     print(x) # numbers don't have any literal to loop through"
   ]
  },
  {
   "cell_type": "code",
   "execution_count": null,
   "id": "a74fbfe0-3ea1-4de8-8cc1-3a8f7448579d",
   "metadata": {},
   "outputs": [],
   "source": [
    "for x in \"10\":\n",
    "    print(x)"
   ]
  },
  {
   "cell_type": "code",
   "execution_count": null,
   "id": "3c047966-1828-4a0b-9df9-4883827dd8a6",
   "metadata": {},
   "outputs": [],
   "source": [
    "for x in range(0, 10):\n",
    "    print(x)"
   ]
  },
  {
   "cell_type": "code",
   "execution_count": 8,
   "id": "4fddfe05-b5e0-450c-be31-a46eb70d20d1",
   "metadata": {},
   "outputs": [
    {
     "name": "stdout",
     "output_type": "stream",
     "text": [
      "{'username': 'yashmar', 'id': 1}\n",
      "{'username': 'abc', 'id': 2}\n"
     ]
    }
   ],
   "source": [
    "user_1 = {'username': 'yashmar', 'id': 1}\n",
    "user_2 = {'username': 'abc', 'id': 2}\n",
    "my_users = [user_1, user_2]\n",
    "for user in my_users:\n",
    "    print(user)"
   ]
  },
  {
   "cell_type": "code",
   "execution_count": 9,
   "id": "fbfd3edc-f664-45ad-8bb3-c8c7b13b8a2e",
   "metadata": {},
   "outputs": [
    {
     "data": {
      "text/plain": [
       "[{'username': 'yashmar', 'id': 1}, {'username': 'abc', 'id': 2}]"
      ]
     },
     "execution_count": 9,
     "metadata": {},
     "output_type": "execute_result"
    }
   ],
   "source": [
    "user_2 = {'username': 'abc', 'id': 2, 'email': 'abc@abc.abc'}\n",
    "my_users"
   ]
  },
  {
   "cell_type": "code",
   "execution_count": 11,
   "id": "ecd8b7bf-665c-4e49-a0aa-9267f0085745",
   "metadata": {},
   "outputs": [
    {
     "data": {
      "text/plain": [
       "[{'username': 'yashmar', 'id': 1},\n",
       " {'username': 'abc', 'id': 2, 'email': 'abc@abc.abc'}]"
      ]
     },
     "execution_count": 11,
     "metadata": {},
     "output_type": "execute_result"
    }
   ],
   "source": [
    "my_users = [user_1, user_2]\n",
    "my_users"
   ]
  },
  {
   "cell_type": "code",
   "execution_count": 14,
   "id": "8e26780e-fc83-4246-b1e1-764bba2d42f9",
   "metadata": {},
   "outputs": [],
   "source": [
    "# for user in my_users:\n",
    "#     print(user['email']) this will not work\n",
    "# check if emai is there in the dictionary"
   ]
  },
  {
   "cell_type": "code",
   "execution_count": 15,
   "id": "a67030e8-74d2-47e8-9600-eb4d27ff01e5",
   "metadata": {},
   "outputs": [
    {
     "name": "stdout",
     "output_type": "stream",
     "text": [
      "abc@abc.abc\n"
     ]
    }
   ],
   "source": [
    "for user in my_users:\n",
    "    if 'email' in user:\n",
    "        print(user['email'])"
   ]
  },
  {
   "cell_type": "code",
   "execution_count": 16,
   "id": "4c005f4c-ef48-4b5a-8d0a-fbba71e6dd8e",
   "metadata": {},
   "outputs": [],
   "source": [
    "selected_user = {}\n",
    "my_user_lookup = 2\n",
    "for user in my_users:\n",
    "    if 'id' in user:\n",
    "        if user['id'] == my_user_lookup:\n",
    "            selected_user = user\n",
    "            "
   ]
  },
  {
   "cell_type": "code",
   "execution_count": 17,
   "id": "72daa9ad-a5e8-4cd7-96f8-6ee53d9c71c6",
   "metadata": {},
   "outputs": [
    {
     "name": "stdout",
     "output_type": "stream",
     "text": [
      "{'username': 'abc', 'id': 2, 'email': 'abc@abc.abc'}\n"
     ]
    }
   ],
   "source": [
    "print(selected_user)"
   ]
  },
  {
   "cell_type": "code",
   "execution_count": 18,
   "id": "4ee96780-ee28-42f3-8945-25d2af2885f8",
   "metadata": {},
   "outputs": [
    {
     "name": "stdout",
     "output_type": "stream",
     "text": [
      "{'username': 'yashmar', 'id': 1}\n",
      "{'username': 'abc', 'id': 2, 'email': 'abc@abc.abc'}\n"
     ]
    }
   ],
   "source": [
    "for x in range(0, 10):\n",
    "    for user in my_users:\n",
    "        if user['id'] == x:\n",
    "            print(user)"
   ]
  },
  {
   "cell_type": "code",
   "execution_count": null,
   "id": "43fc6375-5bca-4428-bc45-0b038c1ea324",
   "metadata": {},
   "outputs": [],
   "source": []
  },
  {
   "cell_type": "code",
   "execution_count": null,
   "id": "ea48512a-32a0-446a-9740-884bd92c0459",
   "metadata": {},
   "outputs": [],
   "source": []
  },
  {
   "cell_type": "code",
   "execution_count": null,
   "id": "2a0c1a2b-d376-4799-9e4e-368322153b03",
   "metadata": {},
   "outputs": [],
   "source": []
  },
  {
   "cell_type": "code",
   "execution_count": null,
   "id": "4e17b70e-7d3c-4289-8769-cd74dafcbe80",
   "metadata": {},
   "outputs": [],
   "source": []
  }
 ],
 "metadata": {
  "kernelspec": {
   "display_name": "Python 3 (ipykernel)",
   "language": "python",
   "name": "python3"
  },
  "language_info": {
   "codemirror_mode": {
    "name": "ipython",
    "version": 3
   },
   "file_extension": ".py",
   "mimetype": "text/x-python",
   "name": "python",
   "nbconvert_exporter": "python",
   "pygments_lexer": "ipython3",
   "version": "3.10.9"
  }
 },
 "nbformat": 4,
 "nbformat_minor": 5
}
