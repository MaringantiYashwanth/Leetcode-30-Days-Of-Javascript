{
 "cells": [
  {
   "cell_type": "markdown",
   "id": "b894df59-3caa-4385-a645-5813acc62f96",
   "metadata": {},
   "source": [
    "## Lists"
   ]
  },
  {
   "cell_type": "code",
   "execution_count": 1,
   "id": "0ba91ce1-bc09-4306-867b-64f002c769c6",
   "metadata": {},
   "outputs": [],
   "source": [
    "my_cart = [12.99, 312, 32, 412]"
   ]
  },
  {
   "cell_type": "code",
   "execution_count": 2,
   "id": "28c9ca4e-b471-4cb5-a6d3-93d19ec8881d",
   "metadata": {},
   "outputs": [
    {
     "data": {
      "text/plain": [
       "768.99"
      ]
     },
     "execution_count": 2,
     "metadata": {},
     "output_type": "execute_result"
    }
   ],
   "source": [
    "sum(my_cart)"
   ]
  },
  {
   "cell_type": "code",
   "execution_count": 3,
   "id": "c1134fde-47ca-4174-8b2e-e46558e95552",
   "metadata": {},
   "outputs": [],
   "source": [
    "my_cart.append(39.99)"
   ]
  },
  {
   "cell_type": "code",
   "execution_count": 4,
   "id": "9b93460c-ed10-434d-ae9d-4118533cb239",
   "metadata": {},
   "outputs": [
    {
     "name": "stdout",
     "output_type": "stream",
     "text": [
      "[12.99, 312, 32, 412, 39.99]\n"
     ]
    }
   ],
   "source": [
    "print(my_cart)"
   ]
  },
  {
   "cell_type": "code",
   "execution_count": 5,
   "id": "684cd743-1ea3-4dde-ba8f-406a358441ce",
   "metadata": {},
   "outputs": [
    {
     "data": {
      "text/plain": [
       "5"
      ]
     },
     "execution_count": 5,
     "metadata": {},
     "output_type": "execute_result"
    }
   ],
   "source": [
    "len(my_cart)"
   ]
  },
  {
   "cell_type": "code",
   "execution_count": 6,
   "id": "f29558fa-0a31-4ee8-b09a-b57338a0c1f9",
   "metadata": {},
   "outputs": [
    {
     "data": {
      "text/plain": [
       "[12.99, 312, 32, 412, 39.99]"
      ]
     },
     "execution_count": 6,
     "metadata": {},
     "output_type": "execute_result"
    }
   ],
   "source": [
    "my_cart \n",
    "# the elements position don't change."
   ]
  },
  {
   "cell_type": "code",
   "execution_count": 7,
   "id": "1391a8f8-a384-4716-a2ec-7b4f07a45d87",
   "metadata": {},
   "outputs": [
    {
     "data": {
      "text/plain": [
       "412"
      ]
     },
     "execution_count": 7,
     "metadata": {},
     "output_type": "execute_result"
    }
   ],
   "source": [
    "my_cart[3] # finds the element at position 3"
   ]
  },
  {
   "cell_type": "code",
   "execution_count": 8,
   "id": "8cacf826-b208-4908-a408-ab047af8ae28",
   "metadata": {},
   "outputs": [
    {
     "data": {
      "text/plain": [
       "32"
      ]
     },
     "execution_count": 8,
     "metadata": {},
     "output_type": "execute_result"
    }
   ],
   "source": [
    "my_cart[2] # finds the element at position 2"
   ]
  },
  {
   "cell_type": "code",
   "execution_count": 9,
   "id": "546b4296-a6bf-4147-9c6b-db8c259b9394",
   "metadata": {},
   "outputs": [
    {
     "data": {
      "text/plain": [
       "3840"
      ]
     },
     "execution_count": 9,
     "metadata": {},
     "output_type": "execute_result"
    }
   ],
   "source": [
    "my_cart[2] * 120"
   ]
  },
  {
   "cell_type": "code",
   "execution_count": 10,
   "id": "3587ed21-c91b-4edc-ac31-65e5dec5f01f",
   "metadata": {},
   "outputs": [],
   "source": [
    "my_string = \"hello world\""
   ]
  },
  {
   "cell_type": "code",
   "execution_count": 11,
   "id": "25dd7581-4bf0-45cc-8828-fd5923e38018",
   "metadata": {},
   "outputs": [
    {
     "data": {
      "text/plain": [
       "11"
      ]
     },
     "execution_count": 11,
     "metadata": {},
     "output_type": "execute_result"
    }
   ],
   "source": [
    "len(my_string)"
   ]
  },
  {
   "cell_type": "code",
   "execution_count": 12,
   "id": "4046621b-20c2-4db6-893f-df8645a0c34f",
   "metadata": {},
   "outputs": [
    {
     "data": {
      "text/plain": [
       "'o'"
      ]
     },
     "execution_count": 12,
     "metadata": {},
     "output_type": "execute_result"
    }
   ],
   "source": [
    "my_string[4]"
   ]
  },
  {
   "cell_type": "code",
   "execution_count": 13,
   "id": "33840289-bd3a-4b2f-8342-cb4ca78e8198",
   "metadata": {},
   "outputs": [
    {
     "data": {
      "text/plain": [
       "[12.99, 312, 32, 412, 39.99]"
      ]
     },
     "execution_count": 13,
     "metadata": {},
     "output_type": "execute_result"
    }
   ],
   "source": [
    "my_cart"
   ]
  },
  {
   "cell_type": "code",
   "execution_count": 14,
   "id": "92607715-c515-48f9-b431-9d022046236d",
   "metadata": {},
   "outputs": [],
   "source": [
    "my_items = [\"mouse\", \"laptop\", \"mike\", \"screen\", \"snack\"]"
   ]
  },
  {
   "cell_type": "code",
   "execution_count": 15,
   "id": "3b8dc848-21f3-4806-a309-a923350ba102",
   "metadata": {},
   "outputs": [
    {
     "data": {
      "text/plain": [
       "['mouse', 'laptop', 'mike', 'screen', 'snack']"
      ]
     },
     "execution_count": 15,
     "metadata": {},
     "output_type": "execute_result"
    }
   ],
   "source": [
    "my_items"
   ]
  },
  {
   "cell_type": "code",
   "execution_count": 16,
   "id": "228965f3-e91d-472d-9d17-36db1c2eaa5e",
   "metadata": {},
   "outputs": [],
   "source": [
    "my_products = [my_items, my_cart]"
   ]
  },
  {
   "cell_type": "code",
   "execution_count": 17,
   "id": "e6fb14a6-bd8a-49e9-9638-1d85244bd0e9",
   "metadata": {},
   "outputs": [
    {
     "data": {
      "text/plain": [
       "[['mouse', 'laptop', 'mike', 'screen', 'snack'], [12.99, 312, 32, 412, 39.99]]"
      ]
     },
     "execution_count": 17,
     "metadata": {},
     "output_type": "execute_result"
    }
   ],
   "source": [
    "my_products"
   ]
  },
  {
   "cell_type": "markdown",
   "id": "c7cc544c-f943-4198-81ea-0c053a4240d4",
   "metadata": {},
   "source": [
    "# Dictionaries"
   ]
  },
  {
   "cell_type": "code",
   "execution_count": 18,
   "id": "a42ac4b4-b1f1-464d-b3ed-708f001b43ab",
   "metadata": {},
   "outputs": [],
   "source": [
    "# Dictionaries\n",
    "my_list = [1, 2, 3, 4, 5]\n",
    "my_data = {\"name\": \"Yashwanth Maringanti\"}"
   ]
  },
  {
   "cell_type": "code",
   "execution_count": 19,
   "id": "9e7210d5-043c-47a3-bd44-4c8468434da3",
   "metadata": {},
   "outputs": [
    {
     "data": {
      "text/plain": [
       "'Yashwanth Maringanti'"
      ]
     },
     "execution_count": 19,
     "metadata": {},
     "output_type": "execute_result"
    }
   ],
   "source": [
    "my_data[\"name\"]"
   ]
  },
  {
   "cell_type": "code",
   "execution_count": 21,
   "id": "9240f009-2ed7-4a66-9030-72c5aca66179",
   "metadata": {},
   "outputs": [],
   "source": [
    "my_data = {\"name\": \"Yashwanth Maringanti\", \"location\": \"California\"}"
   ]
  },
  {
   "cell_type": "code",
   "execution_count": 23,
   "id": "b68aa927-e972-4cf9-af62-f92bec9dcb6b",
   "metadata": {},
   "outputs": [
    {
     "data": {
      "text/plain": [
       "dict_keys(['name', 'location'])"
      ]
     },
     "execution_count": 23,
     "metadata": {},
     "output_type": "execute_result"
    }
   ],
   "source": [
    "my_data.keys() # we can print the keys"
   ]
  },
  {
   "cell_type": "code",
   "execution_count": 25,
   "id": "a035b989-97e9-47b7-b991-926a4818bcee",
   "metadata": {},
   "outputs": [
    {
     "data": {
      "text/plain": [
       "'name'"
      ]
     },
     "execution_count": 25,
     "metadata": {},
     "output_type": "execute_result"
    }
   ],
   "source": [
    "list(my_data.keys())[0] # we can access individual key"
   ]
  },
  {
   "cell_type": "code",
   "execution_count": 26,
   "id": "16170937-1f77-4ddd-ba23-6bfd8a6aa15d",
   "metadata": {},
   "outputs": [
    {
     "data": {
      "text/plain": [
       "'location'"
      ]
     },
     "execution_count": 26,
     "metadata": {},
     "output_type": "execute_result"
    }
   ],
   "source": [
    "list(my_data.keys())[1]"
   ]
  },
  {
   "cell_type": "code",
   "execution_count": 27,
   "id": "8bd95da4-9b9b-400c-ac2a-332504a41ff2",
   "metadata": {},
   "outputs": [
    {
     "ename": "AttributeError",
     "evalue": "'dict' object has no attribute 'append'",
     "output_type": "error",
     "traceback": [
      "\u001b[1;31m---------------------------------------------------------------------------\u001b[0m",
      "\u001b[1;31mAttributeError\u001b[0m                            Traceback (most recent call last)",
      "Cell \u001b[1;32mIn[27], line 1\u001b[0m\n\u001b[1;32m----> 1\u001b[0m \u001b[43mmy_data\u001b[49m\u001b[38;5;241;43m.\u001b[39;49m\u001b[43mappend\u001b[49m({\u001b[38;5;124m\"\u001b[39m\u001b[38;5;124mocc\u001b[39m\u001b[38;5;124m\"\u001b[39m: \u001b[38;5;124m\"\u001b[39m\u001b[38;5;124mcoder\u001b[39m\u001b[38;5;124m\"\u001b[39m})\n",
      "\u001b[1;31mAttributeError\u001b[0m: 'dict' object has no attribute 'append'"
     ]
    }
   ],
   "source": [
    "# my_data.append({\"occ\": \"coder\"}) this will not work. we cannot add data like this"
   ]
  },
  {
   "cell_type": "code",
   "execution_count": 28,
   "id": "052a03d9-66fa-4cf1-bb86-71c019019ed5",
   "metadata": {},
   "outputs": [],
   "source": [
    "my_data[\"occ\"] = \"Coder\""
   ]
  },
  {
   "cell_type": "code",
   "execution_count": 29,
   "id": "e32bf1ae-274f-4d63-926a-33781e83b095",
   "metadata": {},
   "outputs": [
    {
     "data": {
      "text/plain": [
       "{'name': 'Yashwanth Maringanti', 'location': 'California', 'occ': 'Coder'}"
      ]
     },
     "execution_count": 29,
     "metadata": {},
     "output_type": "execute_result"
    }
   ],
   "source": [
    "my_data"
   ]
  },
  {
   "cell_type": "code",
   "execution_count": 30,
   "id": "805c36f8-fe90-40fa-866e-439264638f2e",
   "metadata": {},
   "outputs": [],
   "source": [
    "user_1 = {\"name\": \"James Bond\"}\n",
    "user_2 = {\"name\": \"Ned Stark\"}\n",
    "my_users = [user_1, user_2]"
   ]
  },
  {
   "cell_type": "code",
   "execution_count": 31,
   "id": "170b9d5d-3c6e-4057-b4fa-f88683d36728",
   "metadata": {},
   "outputs": [
    {
     "data": {
      "text/plain": [
       "[{'name': 'James Bond'}, {'name': 'Ned Stark'}]"
      ]
     },
     "execution_count": 31,
     "metadata": {},
     "output_type": "execute_result"
    }
   ],
   "source": [
    "my_users"
   ]
  },
  {
   "cell_type": "code",
   "execution_count": null,
   "id": "ce06db21-e061-40e1-b9f3-59ecd348d87d",
   "metadata": {},
   "outputs": [],
   "source": []
  },
  {
   "cell_type": "code",
   "execution_count": null,
   "id": "67920827-6eed-4869-8aa4-2653747c4380",
   "metadata": {},
   "outputs": [],
   "source": []
  },
  {
   "cell_type": "code",
   "execution_count": null,
   "id": "614c6cf2-946f-47ad-8a7c-66a6e4caccb7",
   "metadata": {},
   "outputs": [],
   "source": []
  },
  {
   "cell_type": "code",
   "execution_count": null,
   "id": "c3f99753-7fca-44c7-8e56-ba4ed2a16723",
   "metadata": {},
   "outputs": [],
   "source": []
  },
  {
   "cell_type": "code",
   "execution_count": null,
   "id": "fa3494df-9f10-4030-8a2d-a2697cfe2833",
   "metadata": {},
   "outputs": [],
   "source": []
  },
  {
   "cell_type": "code",
   "execution_count": null,
   "id": "6fb9ab1f-4461-4833-ad28-55d0305be1ca",
   "metadata": {},
   "outputs": [],
   "source": []
  },
  {
   "cell_type": "code",
   "execution_count": null,
   "id": "f0143408-cb12-44be-8b15-419e7e52556e",
   "metadata": {},
   "outputs": [],
   "source": []
  },
  {
   "cell_type": "code",
   "execution_count": null,
   "id": "1d8a328a-ab51-42e6-a4d9-ecf3a8e33290",
   "metadata": {},
   "outputs": [],
   "source": []
  }
 ],
 "metadata": {
  "kernelspec": {
   "display_name": "Python 3 (ipykernel)",
   "language": "python",
   "name": "python3"
  },
  "language_info": {
   "codemirror_mode": {
    "name": "ipython",
    "version": 3
   },
   "file_extension": ".py",
   "mimetype": "text/x-python",
   "name": "python",
   "nbconvert_exporter": "python",
   "pygments_lexer": "ipython3",
   "version": "3.10.9"
  }
 },
 "nbformat": 4,
 "nbformat_minor": 5
}
